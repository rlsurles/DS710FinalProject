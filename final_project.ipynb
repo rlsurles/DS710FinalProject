{
 "cells": [
  {
   "cell_type": "code",
   "execution_count": 1,
   "metadata": {
    "collapsed": true
   },
   "outputs": [],
   "source": [
    "import tweepy #to collect twitter api\n",
    "import re # works with regular expressions\n",
    "from textblob import TextBlob #to do sentiment analysis. Has a trained analyzer\n",
    "import pandas as pd     # To handle data\n",
    "import numpy as np      # For number computing\n",
    "\n",
    "# For plotting and visualization (just for fun):\n",
    "from IPython.display import display\n",
    "import matplotlib.pyplot as plt\n",
    "import seaborn as sns\n",
    "%matplotlib inline"
   ]
  },
  {
   "cell_type": "code",
   "execution_count": 2,
   "metadata": {
    "collapsed": true
   },
   "outputs": [],
   "source": [
    "# Save your consumer key, consumer secret, access token, and access secret here.\n",
    "# Don't share these secrets with others!  If you're building code for Twitter which many people will share,\n",
    "# you should encrypt this information.  \n",
    "# It's also possible to generate access tokens and secrets from within an app.\n",
    "#remove codes for privacy\n",
    "con_key = \n",
    "con_secret = \n",
    "acc_token = \n",
    "acc_secret = "
   ]
  },
  {
   "cell_type": "code",
   "execution_count": 3,
   "metadata": {
    "collapsed": true
   },
   "outputs": [],
   "source": [
    "def twitter_setup():#Use tweepy.OAuthHandler to create an authentication using the given key and secret\n",
    "    auth = tweepy.OAuthHandler(consumer_key=con_key, consumer_secret=con_secret)\n",
    "    auth.set_access_token(acc_token, acc_secret)\n",
    "\n",
    "    #Connect to the Twitter API using the authentication\n",
    "    api = tweepy.API(auth)\n",
    "    return api\n"
   ]
  },
  {
   "cell_type": "markdown",
   "metadata": {},
   "source": [
    "most of the codes below were modified from the following website. \n",
    "https://dev.to/rodolfoferro/sentiment-analysis-on-trumpss-tweets-using-python-"
   ]
  },
  {
   "cell_type": "code",
   "execution_count": 35,
   "metadata": {
    "collapsed": true
   },
   "outputs": [],
   "source": [
    "# use setup function to create an extractor object:\n",
    "extractor = twitter_setup()\n",
    "\n",
    "# Create a tweet list as follows:\n",
    "    #use Tweepy's function extractor.user_timeline(screen_name, count) \n",
    "    #to extract from query(q) the quantity of count tweets.\n",
    "    \n",
    "tweets = extractor.search(q='#%23guncontrol',count=100)\n",
    "tweets2= extractor.search(q='#%23gunrights',count=100)\n",
    "#print(\"Number of gun control tweets extracted: {}.\\n\".format(len(tweets)))\n",
    "#print(\"Number of gun rights tweets extracted: {}.\\n\".format(len(tweets2)))\n",
    "\n",
    "# Print the most recent 5 tweets:\n",
    "\n",
    "#print(\"5 recent gun control tweets:\\n\")\n",
    "#for tweet in tweets[:5]:\n",
    "    #print(tweet.text)\n",
    "    #print()\n",
    "#print(\"5 recent gun rights tweets:\\n\")\n",
    "#for tweet2 in tweets2[:5]:\n",
    "    #print(tweet2.text)\n",
    "    #print()"
   ]
  },
  {
   "cell_type": "code",
   "execution_count": 36,
   "metadata": {
    "collapsed": true,
    "scrolled": true
   },
   "outputs": [],
   "source": [
    "#create a pandas data frame for both gun control and gun rights\n",
    "gunData=pd.DataFrame(data=[tweet.text for tweet in tweets], columns=['Gun_Control'])\n",
    "gunData2=pd.DataFrame(data=[tweet2.text for tweet2 in tweets2], columns=['Gun_Rights'])\n",
    "\n",
    "#display(gunData.head(10))\n",
    "#display(gunData2.head(10))"
   ]
  },
  {
   "cell_type": "code",
   "execution_count": 6,
   "metadata": {
    "collapsed": true
   },
   "outputs": [],
   "source": [
    "#Use the dir command to view a list of the text attributes of each tweet\n",
    "#dir(tweets[0])"
   ]
  },
  {
   "cell_type": "code",
   "execution_count": 37,
   "metadata": {
    "collapsed": true
   },
   "outputs": [],
   "source": [
    "#print info from the first gun control tweet:\n",
    "#print(tweets[0].id)\n",
    "#print(tweets[0].created_at)\n",
    "#print(tweets[0].source)\n",
    "#print(tweets[0].favorite_count)\n",
    "#print(tweets[0].retweet_count)\n",
    "#print(tweets[0].geo)\n",
    "#print(tweets[0].coordinates)\n",
    "#print(tweets[0].entities)"
   ]
  },
  {
   "cell_type": "code",
   "execution_count": 8,
   "metadata": {
    "collapsed": true
   },
   "outputs": [],
   "source": [
    "# print info from the first gun rights tweet:\n",
    "#print(tweets2[0].id)\n",
    "#print(tweets2[0].created_at)\n",
    "#print(tweets2[0].source)\n",
    "#print(tweets2[0].favorite_count)\n",
    "#print(tweets2[0].retweet_count)\n",
    "#print(tweets2[0].geo)\n",
    "#print(tweets2[0].coordinates)\n",
    "#print(tweets2[0].entities)"
   ]
  },
  {
   "cell_type": "code",
   "execution_count": 9,
   "metadata": {
    "collapsed": true
   },
   "outputs": [],
   "source": [
    "#add relevant data:\n",
    "gunData['Length']  = np.array([len(tweet.text) for tweet in tweets])\n",
    "gunData['ID']   = np.array([tweet.id for tweet in tweets])\n",
    "gunData['Date_Created'] = np.array([tweet.created_at for tweet in tweets])\n",
    "gunData['Source'] = np.array([tweet.source for tweet in tweets])\n",
    "gunData['Likes']  = np.array([tweet.favorite_count for tweet in tweets])\n",
    "gunData['Retweets'] = np.array([tweet.retweet_count for tweet in tweets])\n",
    "#gunData['Geo'] = np.array([tweet.geo for tweet in tweets]) Didn't use this"
   ]
  },
  {
   "cell_type": "code",
   "execution_count": 10,
   "metadata": {
    "collapsed": true
   },
   "outputs": [],
   "source": [
    "#add relevant data:\n",
    "gunData2['Length']  = np.array([len(tweet.text) for tweet in tweets2])\n",
    "gunData2['ID']   = np.array([tweet.id for tweet in tweets2])\n",
    "gunData2['Date_Created'] = np.array([tweet.created_at for tweet in tweets2])\n",
    "gunData2['Source'] = np.array([tweet.source for tweet in tweets2])\n",
    "gunData2['Likes']  = np.array([tweet.favorite_count for tweet in tweets2])\n",
    "gunData2['Retweets'] = np.array([tweet.retweet_count for tweet in tweets2])\n",
    "#gunData2['Geo'] = np.array([tweet.geo for tweet in tweets2]) Didn't use this"
   ]
  },
  {
   "cell_type": "code",
   "execution_count": 38,
   "metadata": {
    "collapsed": true
   },
   "outputs": [],
   "source": [
    "#display(gunData.head(10))"
   ]
  },
  {
   "cell_type": "code",
   "execution_count": 12,
   "metadata": {
    "collapsed": true
   },
   "outputs": [],
   "source": [
    "#display(gunData2.head(10))"
   ]
  },
  {
   "cell_type": "code",
   "execution_count": 25,
   "metadata": {
    "collapsed": true
   },
   "outputs": [],
   "source": [
    "def clean_tweet(tweet):\n",
    "    #Utility function to clean the text in a tweet by removing \n",
    "        #links and special characters using regex.\n",
    "    #any symbol distinct to an alphanumeric value will be remapped into a new one \n",
    "        #that satisfies this condition\n",
    "    \n",
    "    return ' '.join(re.sub(\"(@[A-Za-z0-9]+)|([^0-9A-Za-z \\t])|(\\w+:\\/\\/\\S+)\", \" \", tweet).split())\n",
    "\n",
    "def analize_sentiment(tweet):\n",
    "    #Utility function to classify the polarity of a tweet after cleaning\n",
    "        #using textblob.\n",
    "    \n",
    "    analysis = TextBlob(clean_tweet(tweet))\n",
    "    if analysis.sentiment.polarity > 0:\n",
    "        return 1\n",
    "    elif analysis.sentiment.polarity == 0:\n",
    "        return 0\n",
    "    else:\n",
    "        return -1"
   ]
  },
  {
   "cell_type": "code",
   "execution_count": 26,
   "metadata": {
    "collapsed": true
   },
   "outputs": [],
   "source": [
    "def clean_tweet2(tweets2):\n",
    "    #Utility function to clean the text in a tweet by removing \n",
    "        #links and special characters using regex.\n",
    "    #any symbol distinct to an alphanumeric value will be remapped into a new one \n",
    "        #that satisfies this condition\n",
    "    \n",
    "    return ' '.join(re.sub(\"(@[A-Za-z0-9]+)|([^0-9A-Za-z \\t])|(\\w+:\\/\\/\\S+)\", \" \", tweets2).split())\n",
    "\n",
    "def analize_sentiment2(tweets2):\n",
    "    #Utility function to classify the polarity of a tweet after cleaning\n",
    "        #using textblob.\n",
    "    \n",
    "    analysis = TextBlob(clean_tweet2(tweets2))\n",
    "    if analysis.sentiment.polarity > 0:\n",
    "        return 1\n",
    "    elif analysis.sentiment.polarity == 0:\n",
    "        return 0\n",
    "    else:\n",
    "        return -1"
   ]
  },
  {
   "cell_type": "code",
   "execution_count": 44,
   "metadata": {
    "collapsed": true
   },
   "outputs": [],
   "source": [
    "# create a column with the result of the analysis:\n",
    "#gunData['Sentiment_Analysis'] = np.array([ analize_sentiment(tweet) for tweet in gunData['Gun_Control'] ])\n",
    "\n",
    "# display the updated dataframe with the new column:\n",
    "\n",
    "#gunData.duplicated(subset=['ID'])\n",
    "#display(gunData.head(10))"
   ]
  },
  {
   "cell_type": "code",
   "execution_count": 43,
   "metadata": {
    "collapsed": true
   },
   "outputs": [],
   "source": [
    "# create a column with the result of the analysis:\n",
    "#gunData2['Sentiment_Analysis'] = np.array([ analize_sentiment(tweet2) for tweet2 in gunData2['Gun_Rights'] ])\n",
    "\n",
    "# We display the updated dataframe with the new column:\n",
    "#gunData2.drop_duplicates(keep='first')\n",
    "#gunData2.duplicated(subset=['ID'])\n",
    "#display(gunData2.head(10))"
   ]
  },
  {
   "cell_type": "code",
   "execution_count": 31,
   "metadata": {
    "collapsed": true
   },
   "outputs": [],
   "source": [
    "#save data frame to csv file when done\n",
    "#specifiying index = false prevents us from writing a colunm of row numbers\n",
    "#final_project.csv can also be a path\n",
    "gunData.to_csv(\"Gun_Control.csv\",index=False)"
   ]
  },
  {
   "cell_type": "code",
   "execution_count": 32,
   "metadata": {
    "collapsed": true
   },
   "outputs": [],
   "source": [
    "gunData2.to_csv(\"Gun_Rights.csv\",index=False)"
   ]
  },
  {
   "cell_type": "markdown",
   "metadata": {},
   "source": [
    "The following code was not used for my project. I found it on the same website and wanted to keep this all togeter."
   ]
  },
  {
   "cell_type": "code",
   "execution_count": 40,
   "metadata": {
    "collapsed": true
   },
   "outputs": [],
   "source": [
    "#extract tweets with more favorites and retweets for gun control:\n",
    "#fav_max=np.max(gunData['Likes'])\n",
    "#rt_max=np.max(gunData['Retweets'])\n",
    "\n",
    "#fav=gunData[gunData.Likes==fav_max].index[0]\n",
    "#rt=gunData[gunData.Retweets==rt_max].index[0]\n",
    "\n",
    "#print(\"The tweet with the most likes for gun control is: \\n{}\".format(gunData['Gun_Control'][fav]))\n",
    "#print(\"The number of likes is {}\".format(fav_max))\n",
    "#print(\"{} characters.\\n\".format(gunData['Length'][fav]))\n",
    "\n",
    "\n",
    "#print(\"The tweet with the most retweets for gun control is: \\n{}\".format(gunData['Gun_Control'][fav]))\n",
    "#print(\"The number of retweets is {}\".format(rt_max))\n",
    "#print(\"{} characters.\\n\".format(gunData['Length'][rt]))"
   ]
  },
  {
   "cell_type": "code",
   "execution_count": 41,
   "metadata": {
    "collapsed": true
   },
   "outputs": [],
   "source": [
    "#extract tweets with more favorites and retweets for gun rights:\n",
    "#fav_max2=np.max(gunData2['Likes'])\n",
    "#rt_max2=np.max(gunData2['Retweets'])\n",
    "\n",
    "#fav2=gunData2[gunData2.Likes==fav_max2].index[0]\n",
    "#rt2=gunData2[gunData2.Retweets==rt_max2].index[0]\n",
    "\n",
    "#print(\"The tweet with the most likes for gun rights is: \\n{}\".format(gunData2['Gun_Rights'][fav2]))\n",
    "#print(\"The number of likes is {}\".format(fav_max2))\n",
    "#print(\"{} characters.\\n\".format(gunData2['Length'][fav2]))\n",
    "\n",
    "\n",
    "#print(\"The tweet with the most retweets is: \\n{}\".format(gunData2['Gun_Rights'][fav2]))\n",
    "#print(\"The number of retweets is {}\".format(rt_max2))\n",
    "#print(\"{} characters.\\n\".format(gunData2['Length'][rt2]))"
   ]
  },
  {
   "cell_type": "code",
   "execution_count": 13,
   "metadata": {
    "collapsed": true
   },
   "outputs": [],
   "source": [
    "#Do some visualization and basic stats\n",
    "#find mean of lenghts\n",
    "#mean=np.mean(gunData['Length'])\n",
    "#print(\"The average length of tweets for gun control: {}\".format(mean))"
   ]
  },
  {
   "cell_type": "code",
   "execution_count": 14,
   "metadata": {
    "collapsed": true
   },
   "outputs": [],
   "source": [
    "#Do some visualization and basic stats\n",
    "#find mean of lenghts\n",
    "#mean2=np.mean(gunData2['Length'])\n",
    "#print(\"The average length of tweets for gun rights: {}\".format(mean2))"
   ]
  },
  {
   "cell_type": "code",
   "execution_count": 17,
   "metadata": {
    "collapsed": true
   },
   "outputs": [],
   "source": [
    "#just doing the following for fun...\n",
    "tlen = pd.Series(data=gunData['Length'].values, index=gunData['Date_Created'])\n",
    "tfav = pd.Series(data=gunData['Likes'].values, index=gunData['Date_Created'])\n",
    "tret = pd.Series(data=gunData['Retweets'].values, index=gunData['Date_Created'])"
   ]
  },
  {
   "cell_type": "code",
   "execution_count": 18,
   "metadata": {
    "collapsed": true
   },
   "outputs": [],
   "source": [
    "#just doing the following for fun...\n",
    "tlen2 = pd.Series(data=gunData2['Length'].values, index=gunData2['Date_Created'])\n",
    "tfav2 = pd.Series(data=gunData2['Likes'].values, index=gunData2['Date_Created'])\n",
    "tret2 = pd.Series(data=gunData2['Retweets'].values, index=gunData2['Date_Created'])"
   ]
  },
  {
   "cell_type": "code",
   "execution_count": 51,
   "metadata": {
    "collapsed": true
   },
   "outputs": [],
   "source": [
    "#just doing the following for fun...\n",
    "#tlen.plot(figsize=(10,2),color='r');"
   ]
  },
  {
   "cell_type": "code",
   "execution_count": 50,
   "metadata": {
    "collapsed": true
   },
   "outputs": [],
   "source": [
    "#just doing the following for fun...\n",
    "#tlen2.plot(figsize=(10,2),color='r');"
   ]
  },
  {
   "cell_type": "code",
   "execution_count": 49,
   "metadata": {
    "collapsed": true
   },
   "outputs": [],
   "source": [
    "#tlen2.plot(figsize=(10,2),color='r');\n",
    "#tlen.plot(figsize=(10,2),color='b');"
   ]
  },
  {
   "cell_type": "code",
   "execution_count": 48,
   "metadata": {
    "collapsed": true
   },
   "outputs": [],
   "source": [
    "#just doing the following for fun...\n",
    "# Likes vs retweets visualization:\n",
    "#tfav.plot(figsize=(10,2), label=\"Likes\", legend=True)\n",
    "#tfav2.plot(figsize=(10,2), label=\"Likes\", legend=True);"
   ]
  },
  {
   "cell_type": "code",
   "execution_count": 47,
   "metadata": {
    "collapsed": true
   },
   "outputs": [],
   "source": [
    "#just doing the following for fun...\n",
    "# obtain all possible sources:\n",
    "#sources = []\n",
    "#for source in gunData['Source']:\n",
    "#    if source not in sources:\n",
    "#        sources.append(source)\n",
    "\n",
    "# print sources list:\n",
    "#print(\"Creation of content sources:\")\n",
    "#for source in sources:\n",
    " #   print(\"* {}\".format(source))"
   ]
  },
  {
   "cell_type": "code",
   "execution_count": 46,
   "metadata": {
    "collapsed": true
   },
   "outputs": [],
   "source": [
    "#just doing the following for fun...\n",
    "# create a numpy vector mapped to labels:\n",
    "#percent = np.zeros(len(sources))\n",
    "\n",
    "#for source in gunData['Source']:\n",
    " #   for index in range(len(sources)):\n",
    "  #      if source == sources[index]:\n",
    "   #         percent[index] += 1\n",
    "    #        pass\n",
    "\n",
    "#percent /= 100\n",
    "\n",
    "# Pie chart:\n",
    "#pie_chart = pd.Series(percent, index=sources, name='Sources')\n",
    "#pie_chart.plot.pie(fontsize=11, autopct='%.2f', figsize=(6, 6));"
   ]
  },
  {
   "cell_type": "code",
   "execution_count": 29,
   "metadata": {
    "collapsed": true
   },
   "outputs": [],
   "source": [
    "#analyze the results\n",
    "pos_tweets = [ tweet for index, tweet in enumerate(gunData['Gun_Control']) if gunData['Sentiment_Analysis'][index] > 0]\n",
    "neu_tweets = [ tweet for index, tweet in enumerate(gunData['Gun_Control']) if gunData['Sentiment_Analysis'][index] == 0]\n",
    "neg_tweets = [ tweet for index, tweet in enumerate(gunData['Gun_Control']) if gunData['Sentiment_Analysis'][index] < 0]"
   ]
  },
  {
   "cell_type": "code",
   "execution_count": 30,
   "metadata": {
    "collapsed": true
   },
   "outputs": [],
   "source": [
    "#analyze the results\n",
    "pos_tweets2 = [ tweet2 for index, tweet2 in enumerate(gunData2['Gun_Rights']) if gunData2['Sentiment_Analysis'][index] > 0]\n",
    "neu_tweets2 = [ tweet2 for index, tweet2 in enumerate(gunData2['Gun_Rights']) if gunData2['Sentiment_Analysis'][index] == 0]\n",
    "neg_tweets2 = [ tweet2 for index, tweet2 in enumerate(gunData2['Gun_Rights']) if gunData2['Sentiment_Analysis'][index] < 0]"
   ]
  },
  {
   "cell_type": "code",
   "execution_count": 33,
   "metadata": {},
   "outputs": [
    {
     "name": "stdout",
     "output_type": "stream",
     "text": [
      "Percentage of positive tweets for Gun Control: 25.510204081632654%\n",
      "Percentage of neutral tweets for Gun Control: 52.04081632653061%\n",
      "Percentage de negative tweets for Gun Control: 22.448979591836736%\n"
     ]
    }
   ],
   "source": [
    "print(\"Percentage of positive tweets for Gun Control: {}%\".format(len(pos_tweets)*100/len(gunData['Gun_Control'])))\n",
    "print(\"Percentage of neutral tweets for Gun Control: {}%\".format(len(neu_tweets)*100/len(gunData['Gun_Control'])))\n",
    "print(\"Percentage de negative tweets for Gun Control: {}%\".format(len(neg_tweets)*100/len(gunData['Gun_Control'])))"
   ]
  },
  {
   "cell_type": "code",
   "execution_count": 34,
   "metadata": {},
   "outputs": [
    {
     "name": "stdout",
     "output_type": "stream",
     "text": [
      "Percentage of positive tweets for Gun Rights: 72.0%\n",
      "Percentage of neutral tweets for Gun Rights: 18.0%\n",
      "Percentage de negative tweets for Gun Rights: 10.0%\n"
     ]
    }
   ],
   "source": [
    "print(\"Percentage of positive tweets for Gun Rights: {}%\".format(len(pos_tweets2)*100/len(gunData2['Gun_Rights'])))\n",
    "print(\"Percentage of neutral tweets for Gun Rights: {}%\".format(len(neu_tweets2)*100/len(gunData2['Gun_Rights'])))\n",
    "print(\"Percentage de negative tweets for Gun Rights: {}%\".format(len(neg_tweets2)*100/len(gunData2['Gun_Rights'])))"
   ]
  }
 ],
 "metadata": {
  "kernelspec": {
   "display_name": "Python 3",
   "language": "python",
   "name": "python3"
  },
  "language_info": {
   "codemirror_mode": {
    "name": "ipython",
    "version": 3
   },
   "file_extension": ".py",
   "mimetype": "text/x-python",
   "name": "python",
   "nbconvert_exporter": "python",
   "pygments_lexer": "ipython3",
   "version": "3.6.2"
  }
 },
 "nbformat": 4,
 "nbformat_minor": 2
}
